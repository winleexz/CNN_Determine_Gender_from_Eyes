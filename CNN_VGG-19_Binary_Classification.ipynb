{
  "nbformat": 4,
  "nbformat_minor": 0,
  "metadata": {
    "colab": {
      "name": "CNN_eye_from_gender.ipynb",
      "provenance": [],
      "collapsed_sections": []
    },
    "kernelspec": {
      "name": "python3",
      "display_name": "Python 3"
    }
  },
  "cells": [
    {
      "cell_type": "markdown",
      "metadata": {
        "id": "cKmMyelNA6uF"
      },
      "source": [
        "## Download images into colab "
      ]
    },
    {
      "cell_type": "code",
      "metadata": {
        "id": "5_1BysB4Re7f",
        "colab": {
          "base_uri": "https://localhost:8080/"
        },
        "outputId": "5376effa-4dc4-4e9b-ddc8-266b83417513"
      },
      "source": [
        "from google_drive_downloader import GoogleDriveDownloader as gdd\n",
        "\n",
        "gdd.download_file_from_google_drive(file_id='1f7uslI-ZHidriQFZR966_aILjlkgDN76',\n",
        "                                    dest_path='content/eye_gender_data.zip',\n",
        "                                    unzip=True)"
      ],
      "execution_count": 1,
      "outputs": [
        {
          "output_type": "stream",
          "text": [
            "Downloading 1f7uslI-ZHidriQFZR966_aILjlkgDN76 into content/eye_gender_data.zip... Done.\n",
            "Unzipping...Done.\n"
          ],
          "name": "stdout"
        }
      ]
    },
    {
      "cell_type": "markdown",
      "metadata": {
        "id": "mDU7z-Q5BKkG"
      },
      "source": [
        "## Import libraries"
      ]
    },
    {
      "cell_type": "code",
      "metadata": {
        "id": "BIe16kmoUmhr"
      },
      "source": [
        "import pandas as pd                                     \n",
        "import numpy as np                                      \n",
        "import tensorflow as tf                                 \n",
        "import os                                               \n",
        "import cv2                                              \n",
        "import matplotlib.pyplot as plt"
      ],
      "execution_count": 2,
      "outputs": []
    },
    {
      "cell_type": "markdown",
      "metadata": {
        "id": "IAXqCpedduVx"
      },
      "source": [
        "## Loading and preparing training data\n"
      ]
    },
    {
      "cell_type": "code",
      "metadata": {
        "id": "vMXmX8g3dflK"
      },
      "source": [
        "labels = pd.read_csv(\"/content/content/eye_gender_data/Training_set.csv\")   # loading the labels\n",
        "file_paths = [[fname, '/content/content/eye_gender_data/train/' + fname] for fname in labels['filename']]\n",
        "images = pd.DataFrame(file_paths, columns=['filename', 'filepaths'])\n",
        "train_data = pd.merge(images, labels, how = 'inner', on = 'filename')\n",
        "\n",
        "data = []     \n",
        "image_size = 32      # image size taken is 32 here. \n",
        "\n",
        "for i in range(len(train_data)):\n",
        "  \n",
        "  img_array = cv2.imread(train_data['filepaths'][i], cv2.IMREAD_GRAYSCALE)   # converting the image to gray scale\n",
        "  new_img_array = cv2.resize(img_array, (image_size, image_size))      # resizing the image array\n",
        "  data.append(new_img_array) "
      ],
      "execution_count": 3,
      "outputs": []
    },
    {
      "cell_type": "markdown",
      "metadata": {
        "id": "BvIxaRD6sn3m"
      },
      "source": [
        "## Data Pre-processing\n",
        "It is necessary to bring all the images to the same shape and size as defined by the VGG-19 model. Also, convert all the labels from categorical to numerical values."
      ]
    },
    {
      "cell_type": "code",
      "metadata": {
        "id": "ZeRRAYJh2I0i"
      },
      "source": [
        "arr = np.array(data)"
      ],
      "execution_count": 4,
      "outputs": []
    },
    {
      "cell_type": "code",
      "metadata": {
        "colab": {
          "base_uri": "https://localhost:8080/"
        },
        "id": "YRC8bBYwUvGi",
        "outputId": "5f04f7f7-7367-479f-af25-d1d2cafa946c"
      },
      "source": [
        "arr"
      ],
      "execution_count": 5,
      "outputs": [
        {
          "output_type": "execute_result",
          "data": {
            "text/plain": [
              "array([[[189, 188, 182, ..., 178, 177, 172],\n",
              "        [187, 179, 179, ..., 175, 172, 162],\n",
              "        [185, 181, 184, ..., 168, 157, 149],\n",
              "        ...,\n",
              "        [142, 136, 148, ..., 164, 162, 164],\n",
              "        [140, 150, 161, ..., 169, 164, 164],\n",
              "        [139, 154, 163, ..., 173, 167, 164]],\n",
              "\n",
              "       [[170, 175, 172, ..., 190, 193, 194],\n",
              "        [165, 152, 136, ..., 186, 189, 191],\n",
              "        [147, 124, 107, ..., 183, 189, 193],\n",
              "        ...,\n",
              "        [188, 189, 190, ..., 191, 197, 202],\n",
              "        [187, 190, 190, ..., 195, 197, 196],\n",
              "        [186, 190, 190, ..., 200, 201, 197]],\n",
              "\n",
              "       [[176, 172, 172, ..., 135, 128, 127],\n",
              "        [168, 165, 165, ...,  91, 114, 111],\n",
              "        [164, 165, 162, ...,  76,  62,  68],\n",
              "        ...,\n",
              "        [131, 143, 148, ..., 115, 112, 103],\n",
              "        [131, 145, 150, ..., 113, 108,  99],\n",
              "        [130, 144, 150, ..., 114, 106,  95]],\n",
              "\n",
              "       ...,\n",
              "\n",
              "       [[190, 175, 169, ..., 100, 115, 135],\n",
              "        [177, 161, 147, ...,  83, 103, 101],\n",
              "        [158, 138, 130, ...,  74,  72,  64],\n",
              "        ...,\n",
              "        [144, 137, 134, ..., 150, 151, 148],\n",
              "        [147, 139, 138, ..., 148, 149, 149],\n",
              "        [145, 138, 137, ..., 151, 155, 153]],\n",
              "\n",
              "       [[142, 137, 137, ..., 129, 135, 141],\n",
              "        [141, 142, 128, ..., 107, 117, 126],\n",
              "        [138, 126, 118, ..., 102, 106, 117],\n",
              "        ...,\n",
              "        [157, 147, 143, ..., 154, 153, 171],\n",
              "        [160, 160, 153, ..., 153, 154, 177],\n",
              "        [158, 163, 160, ..., 155, 170, 175]],\n",
              "\n",
              "       [[225, 226, 223, ..., 144, 146, 153],\n",
              "        [223, 224, 223, ..., 146, 144, 130],\n",
              "        [222, 220, 225, ..., 148, 154, 163],\n",
              "        ...,\n",
              "        [205, 195, 194, ..., 223, 219, 221],\n",
              "        [206, 199, 197, ..., 220, 220, 221],\n",
              "        [209, 204, 202, ..., 222, 222, 221]]], dtype=uint8)"
            ]
          },
          "metadata": {
            "tags": []
          },
          "execution_count": 5
        }
      ]
    },
    {
      "cell_type": "code",
      "metadata": {
        "colab": {
          "base_uri": "https://localhost:8080/"
        },
        "id": "e4puB71FU6xl",
        "outputId": "91c3e22b-dcdb-477a-d48b-aeb175e10a4c"
      },
      "source": [
        "arr.shape"
      ],
      "execution_count": 6,
      "outputs": [
        {
          "output_type": "execute_result",
          "data": {
            "text/plain": [
              "(9220, 32, 32)"
            ]
          },
          "metadata": {
            "tags": []
          },
          "execution_count": 6
        }
      ]
    },
    {
      "cell_type": "code",
      "metadata": {
        "colab": {
          "base_uri": "https://localhost:8080/"
        },
        "id": "2SM7bhmwDAG8",
        "outputId": "43da07c8-a05b-422a-8b53-457215049736"
      },
      "source": [
        "# reshape into 3 channels for feeding into the model\n",
        "train_images_3ch = np.stack([arr]*3, axis=-1)\n",
        "print('\\nTrain_images.shape: {}, of {}'.format(train_images_3ch.shape, train_images_3ch.dtype))"
      ],
      "execution_count": 7,
      "outputs": [
        {
          "output_type": "stream",
          "text": [
            "\n",
            "Train_images.shape: (9220, 32, 32, 3), of uint8\n"
          ],
          "name": "stdout"
        }
      ]
    },
    {
      "cell_type": "code",
      "metadata": {
        "id": "vxPiZCLpsWrd"
      },
      "source": [
        "# normalisation\n",
        "train_images_scaled = train_images_3ch / 255."
      ],
      "execution_count": 8,
      "outputs": []
    },
    {
      "cell_type": "code",
      "metadata": {
        "colab": {
          "base_uri": "https://localhost:8080/"
        },
        "id": "ypkgeyllXtDT",
        "outputId": "934454a0-ffd7-418d-c2ca-e9717de72f38"
      },
      "source": [
        "# encode labels\n",
        "from sklearn.preprocessing import LabelEncoder\n",
        "le = LabelEncoder()\n",
        "train_labels = le.fit_transform(train_data[['label']])"
      ],
      "execution_count": 9,
      "outputs": [
        {
          "output_type": "stream",
          "text": [
            "/usr/local/lib/python3.7/dist-packages/sklearn/preprocessing/_label.py:251: DataConversionWarning: A column-vector y was passed when a 1d array was expected. Please change the shape of y to (n_samples, ), for example using ravel().\n",
            "  y = column_or_1d(y, warn=True)\n"
          ],
          "name": "stderr"
        }
      ]
    },
    {
      "cell_type": "code",
      "metadata": {
        "colab": {
          "base_uri": "https://localhost:8080/"
        },
        "id": "MxvuOgzqHvAo",
        "outputId": "71c4b973-a263-4ace-94d4-a2185e9d5f50"
      },
      "source": [
        "train_labels.shape"
      ],
      "execution_count": 10,
      "outputs": [
        {
          "output_type": "execute_result",
          "data": {
            "text/plain": [
              "(9220,)"
            ]
          },
          "metadata": {
            "tags": []
          },
          "execution_count": 10
        }
      ]
    },
    {
      "cell_type": "markdown",
      "metadata": {
        "id": "cDCZ53yE7340"
      },
      "source": [
        "## Building Model & Hyperparameter tuning\n"
      ]
    },
    {
      "cell_type": "code",
      "metadata": {
        "id": "kOKWYA6Ua4Uh",
        "colab": {
          "base_uri": "https://localhost:8080/"
        },
        "outputId": "1af607cf-a4b9-4486-d660-ae759e0461dc"
      },
      "source": [
        "# Build VGG19 Model\n",
        "\n",
        "# define input shape\n",
        "INPUT_SHAPE = (32, 32, 3)\n",
        "\n",
        "# get the VGG19 model\n",
        "vgg_layers = tf.keras.applications.vgg19.VGG19(weights='imagenet', include_top=False, \n",
        "                                               input_shape=INPUT_SHAPE) \n",
        "\n",
        "vgg_layers.summary()"
      ],
      "execution_count": 11,
      "outputs": [
        {
          "output_type": "stream",
          "text": [
            "Downloading data from https://storage.googleapis.com/tensorflow/keras-applications/vgg19/vgg19_weights_tf_dim_ordering_tf_kernels_notop.h5\n",
            "80142336/80134624 [==============================] - 2s 0us/step\n",
            "Model: \"vgg19\"\n",
            "_________________________________________________________________\n",
            "Layer (type)                 Output Shape              Param #   \n",
            "=================================================================\n",
            "input_1 (InputLayer)         [(None, 32, 32, 3)]       0         \n",
            "_________________________________________________________________\n",
            "block1_conv1 (Conv2D)        (None, 32, 32, 64)        1792      \n",
            "_________________________________________________________________\n",
            "block1_conv2 (Conv2D)        (None, 32, 32, 64)        36928     \n",
            "_________________________________________________________________\n",
            "block1_pool (MaxPooling2D)   (None, 16, 16, 64)        0         \n",
            "_________________________________________________________________\n",
            "block2_conv1 (Conv2D)        (None, 16, 16, 128)       73856     \n",
            "_________________________________________________________________\n",
            "block2_conv2 (Conv2D)        (None, 16, 16, 128)       147584    \n",
            "_________________________________________________________________\n",
            "block2_pool (MaxPooling2D)   (None, 8, 8, 128)         0         \n",
            "_________________________________________________________________\n",
            "block3_conv1 (Conv2D)        (None, 8, 8, 256)         295168    \n",
            "_________________________________________________________________\n",
            "block3_conv2 (Conv2D)        (None, 8, 8, 256)         590080    \n",
            "_________________________________________________________________\n",
            "block3_conv3 (Conv2D)        (None, 8, 8, 256)         590080    \n",
            "_________________________________________________________________\n",
            "block3_conv4 (Conv2D)        (None, 8, 8, 256)         590080    \n",
            "_________________________________________________________________\n",
            "block3_pool (MaxPooling2D)   (None, 4, 4, 256)         0         \n",
            "_________________________________________________________________\n",
            "block4_conv1 (Conv2D)        (None, 4, 4, 512)         1180160   \n",
            "_________________________________________________________________\n",
            "block4_conv2 (Conv2D)        (None, 4, 4, 512)         2359808   \n",
            "_________________________________________________________________\n",
            "block4_conv3 (Conv2D)        (None, 4, 4, 512)         2359808   \n",
            "_________________________________________________________________\n",
            "block4_conv4 (Conv2D)        (None, 4, 4, 512)         2359808   \n",
            "_________________________________________________________________\n",
            "block4_pool (MaxPooling2D)   (None, 2, 2, 512)         0         \n",
            "_________________________________________________________________\n",
            "block5_conv1 (Conv2D)        (None, 2, 2, 512)         2359808   \n",
            "_________________________________________________________________\n",
            "block5_conv2 (Conv2D)        (None, 2, 2, 512)         2359808   \n",
            "_________________________________________________________________\n",
            "block5_conv3 (Conv2D)        (None, 2, 2, 512)         2359808   \n",
            "_________________________________________________________________\n",
            "block5_conv4 (Conv2D)        (None, 2, 2, 512)         2359808   \n",
            "_________________________________________________________________\n",
            "block5_pool (MaxPooling2D)   (None, 1, 1, 512)         0         \n",
            "=================================================================\n",
            "Total params: 20,024,384\n",
            "Trainable params: 20,024,384\n",
            "Non-trainable params: 0\n",
            "_________________________________________________________________\n"
          ],
          "name": "stdout"
        }
      ]
    },
    {
      "cell_type": "code",
      "metadata": {
        "id": "ZQWMyQLva53K",
        "colab": {
          "base_uri": "https://localhost:8080/"
        },
        "outputId": "e1a9eed5-1368-4cb7-9bbe-a7514358260c"
      },
      "source": [
        "# Fine-tune all the layers\n",
        "for layer in vgg_layers.layers:\n",
        "    layer.trainable = True \n",
        "\n",
        "# Check the trainable status of the individual layers\n",
        "for layer in vgg_layers.layers:\n",
        "    print(layer, layer.trainable)"
      ],
      "execution_count": 12,
      "outputs": [
        {
          "output_type": "stream",
          "text": [
            "<tensorflow.python.keras.engine.input_layer.InputLayer object at 0x7f2045f956d0> True\n",
            "<tensorflow.python.keras.layers.convolutional.Conv2D object at 0x7f2045d3b750> True\n",
            "<tensorflow.python.keras.layers.convolutional.Conv2D object at 0x7f2045cdcb50> True\n",
            "<tensorflow.python.keras.layers.pooling.MaxPooling2D object at 0x7f2045c59e50> True\n",
            "<tensorflow.python.keras.layers.convolutional.Conv2D object at 0x7f2045c82610> True\n",
            "<tensorflow.python.keras.layers.convolutional.Conv2D object at 0x7f20424abc50> True\n",
            "<tensorflow.python.keras.layers.pooling.MaxPooling2D object at 0x7f2045c801d0> True\n",
            "<tensorflow.python.keras.layers.convolutional.Conv2D object at 0x7f20424b2d50> True\n",
            "<tensorflow.python.keras.layers.convolutional.Conv2D object at 0x7f20424bc510> True\n",
            "<tensorflow.python.keras.layers.convolutional.Conv2D object at 0x7f20424c1910> True\n",
            "<tensorflow.python.keras.layers.convolutional.Conv2D object at 0x7f20424b2c10> True\n",
            "<tensorflow.python.keras.layers.pooling.MaxPooling2D object at 0x7f20424ce050> True\n",
            "<tensorflow.python.keras.layers.convolutional.Conv2D object at 0x7f20424d37d0> True\n",
            "<tensorflow.python.keras.layers.convolutional.Conv2D object at 0x7f2045fa7890> True\n",
            "<tensorflow.python.keras.layers.convolutional.Conv2D object at 0x7f20424ab490> True\n",
            "<tensorflow.python.keras.layers.convolutional.Conv2D object at 0x7f2045cdce90> True\n",
            "<tensorflow.python.keras.layers.pooling.MaxPooling2D object at 0x7f2045c82510> True\n",
            "<tensorflow.python.keras.layers.convolutional.Conv2D object at 0x7f2045d0aa50> True\n",
            "<tensorflow.python.keras.layers.convolutional.Conv2D object at 0x7f20424b8790> True\n",
            "<tensorflow.python.keras.layers.convolutional.Conv2D object at 0x7f20424cdcd0> True\n",
            "<tensorflow.python.keras.layers.convolutional.Conv2D object at 0x7f2042472b90> True\n",
            "<tensorflow.python.keras.layers.pooling.MaxPooling2D object at 0x7f204247f050> True\n"
          ],
          "name": "stdout"
        }
      ]
    },
    {
      "cell_type": "code",
      "metadata": {
        "id": "_jkmDd6PbAJH",
        "colab": {
          "base_uri": "https://localhost:8080/"
        },
        "outputId": "45c45b85-6b77-4328-d08d-7577f155fc23"
      },
      "source": [
        "# Build CNN model on top of VGG19\n",
        "\n",
        "# define sequential model\n",
        "model = tf.keras.models.Sequential()\n",
        "\n",
        "# Add the vgg convolutional base model\n",
        "model.add(vgg_layers)\n",
        "\n",
        "# add flatten layer\n",
        "model.add(tf.keras.layers.Flatten())\n",
        "\n",
        "# add dense layers with some dropout\n",
        "model.add(tf.keras.layers.Dense(256, activation='relu'))\n",
        "model.add(tf.keras.layers.Dropout(rate=0.3))\n",
        "model.add(tf.keras.layers.Dense(256, activation='relu'))\n",
        "model.add(tf.keras.layers.Dropout(rate=0.3))\n",
        "\n",
        "# add output layer\n",
        "model.add(tf.keras.layers.Dense(1, activation='sigmoid')) #single node with ‘sigmoid‘ activation\n",
        "\n",
        "# compile model\n",
        "model.compile(optimizer=tf.keras.optimizers.Adam(learning_rate=2e-5), \n",
        "              loss='binary_crossentropy', \n",
        "              metrics=['accuracy'])\n",
        "\n",
        "# view model layers\n",
        "model.summary()"
      ],
      "execution_count": 13,
      "outputs": [
        {
          "output_type": "stream",
          "text": [
            "Model: \"sequential\"\n",
            "_________________________________________________________________\n",
            "Layer (type)                 Output Shape              Param #   \n",
            "=================================================================\n",
            "vgg19 (Functional)           (None, 1, 1, 512)         20024384  \n",
            "_________________________________________________________________\n",
            "flatten (Flatten)            (None, 512)               0         \n",
            "_________________________________________________________________\n",
            "dense (Dense)                (None, 256)               131328    \n",
            "_________________________________________________________________\n",
            "dropout (Dropout)            (None, 256)               0         \n",
            "_________________________________________________________________\n",
            "dense_1 (Dense)              (None, 256)               65792     \n",
            "_________________________________________________________________\n",
            "dropout_1 (Dropout)          (None, 256)               0         \n",
            "_________________________________________________________________\n",
            "dense_2 (Dense)              (None, 1)                 257       \n",
            "=================================================================\n",
            "Total params: 20,221,761\n",
            "Trainable params: 20,221,761\n",
            "Non-trainable params: 0\n",
            "_________________________________________________________________\n"
          ],
          "name": "stdout"
        }
      ]
    },
    {
      "cell_type": "code",
      "metadata": {
        "colab": {
          "base_uri": "https://localhost:8080/"
        },
        "id": "eHDpTUcwG_e0",
        "outputId": "e8cc91e6-ee2d-4ccb-fbd9-2a9db40129e5"
      },
      "source": [
        "EPOCHS = 30\n",
        "\n",
        "es_callback = tf.keras.callbacks.EarlyStopping(monitor='val_loss', patience=2, \n",
        "                                               restore_best_weights=True,\n",
        "                                               verbose=1)\n",
        "\n",
        "history = model.fit(train_images_scaled, train_labels,\n",
        "                    batch_size=256,\n",
        "                    callbacks=[es_callback], \n",
        "                    validation_split=0.1, epochs=EPOCHS, \n",
        "                    verbose=1)"
      ],
      "execution_count": 14,
      "outputs": [
        {
          "output_type": "stream",
          "text": [
            "Epoch 1/30\n",
            "33/33 [==============================] - 1045s 32s/step - loss: 0.5705 - accuracy: 0.6972 - val_loss: 0.3879 - val_accuracy: 0.8384\n",
            "Epoch 2/30\n",
            "33/33 [==============================] - 1043s 32s/step - loss: 0.3877 - accuracy: 0.8386 - val_loss: 0.4051 - val_accuracy: 0.8265\n",
            "Epoch 3/30\n",
            "33/33 [==============================] - 1039s 31s/step - loss: 0.2899 - accuracy: 0.8843 - val_loss: 0.2550 - val_accuracy: 0.8991\n",
            "Epoch 4/30\n",
            "33/33 [==============================] - 1056s 32s/step - loss: 0.2262 - accuracy: 0.9091 - val_loss: 0.2357 - val_accuracy: 0.9100\n",
            "Epoch 5/30\n",
            "33/33 [==============================] - 1053s 32s/step - loss: 0.1916 - accuracy: 0.9243 - val_loss: 0.2271 - val_accuracy: 0.9111\n",
            "Epoch 6/30\n",
            "33/33 [==============================] - 1029s 31s/step - loss: 0.1690 - accuracy: 0.9359 - val_loss: 0.2162 - val_accuracy: 0.9230\n",
            "Epoch 7/30\n",
            "33/33 [==============================] - 1015s 31s/step - loss: 0.1520 - accuracy: 0.9422 - val_loss: 0.2118 - val_accuracy: 0.9132\n",
            "Epoch 8/30\n",
            "33/33 [==============================] - 1035s 31s/step - loss: 0.1331 - accuracy: 0.9507 - val_loss: 0.2040 - val_accuracy: 0.9273\n",
            "Epoch 9/30\n",
            "33/33 [==============================] - 1020s 31s/step - loss: 0.1284 - accuracy: 0.9513 - val_loss: 0.2518 - val_accuracy: 0.9111\n",
            "Epoch 10/30\n",
            "33/33 [==============================] - 958s 29s/step - loss: 0.1054 - accuracy: 0.9600 - val_loss: 0.1856 - val_accuracy: 0.9338\n",
            "Epoch 11/30\n",
            "33/33 [==============================] - 885s 27s/step - loss: 0.0850 - accuracy: 0.9695 - val_loss: 0.1924 - val_accuracy: 0.9338\n",
            "Epoch 12/30\n",
            "33/33 [==============================] - 883s 27s/step - loss: 0.0724 - accuracy: 0.9749 - val_loss: 0.2181 - val_accuracy: 0.9273\n",
            "Restoring model weights from the end of the best epoch.\n",
            "Epoch 00012: early stopping\n"
          ],
          "name": "stdout"
        }
      ]
    },
    {
      "cell_type": "markdown",
      "metadata": {
        "id": "tc3lSJ2a-OYt"
      },
      "source": [
        "## Validate the model\n"
      ]
    },
    {
      "cell_type": "code",
      "metadata": {
        "id": "jLfoImV7ds57",
        "colab": {
          "base_uri": "https://localhost:8080/",
          "height": 265
        },
        "outputId": "b0d270e0-598d-41ef-9ab8-2c85c18b9a72"
      },
      "source": [
        "# Plot Learning Curves\n",
        "fig, ax = plt.subplots(1, 2, figsize=(10, 4))\n",
        "\n",
        "history_df = pd.DataFrame(history.history)\n",
        "history_df[['loss', 'val_loss']].plot(kind='line', ax=ax[0])\n",
        "history_df[['accuracy', 'val_accuracy']].plot(kind='line', ax=ax[1]);"
      ],
      "execution_count": 15,
      "outputs": [
        {
          "output_type": "display_data",
          "data": {
            "image/png": "[encoded data removed]",
            "text/plain": [
              "<Figure size 720x288 with 2 Axes>"
            ]
          },
          "metadata": {
            "tags": [],
            "needs_background": "light"
          }
        }
      ]
    },
    {
      "cell_type": "code",
      "metadata": {
        "id": "CbpiNvC3r9PK",
        "colab": {
          "base_uri": "https://localhost:8080/"
        },
        "outputId": "3546be7c-16a5-434f-9686-d68d968f9aaf"
      },
      "source": [
        "# saving the model\n",
        "save_dir = \"/results/\"\n",
        "model_name = 'eye_model.h5'\n",
        "model.save(model_name)\n",
        "model_path = save_dir + model_name\n",
        "print('Saved trained model at %s ' % model_path)"
      ],
      "execution_count": 16,
      "outputs": [
        {
          "output_type": "stream",
          "text": [
            "Saved trained model at /results/eye_model.h5 \n"
          ],
          "name": "stdout"
        }
      ]
    },
    {
      "cell_type": "markdown",
      "metadata": {
        "id": "kLrpm-If-lRT"
      },
      "source": [
        "## Predict The Output For Testing Dataset"
      ]
    },
    {
      "cell_type": "markdown",
      "metadata": {
        "id": "nG70J6Un-s2G"
      },
      "source": [
        "## Load Test Set"
      ]
    },
    {
      "cell_type": "code",
      "metadata": {
        "id": "ndM4OOX_qP3a"
      },
      "source": [
        "test_data = pd.read_csv(\"/content/content/eye_gender_data/Testing_set.csv\" )\n",
        "file_paths_test = [[fname, '/content/content/eye_gender_data/test/' + fname] for fname in test_data['filename']]\n",
        "images_test = pd.DataFrame(file_paths_test, columns=['filename', 'filepaths'])\n",
        "\n",
        "new_test_data = []\n",
        "#image_size = 32 \n",
        "\n",
        "for i in range(len(images_test)):\n",
        "  \n",
        "  img_array_test = cv2.imread(images_test['filepaths'][i], cv2.IMREAD_GRAYSCALE)   # converting the image to gray scale\n",
        "  new_img_array_test = cv2.resize(img_array_test, (image_size, image_size))      # resizing the image array\n",
        "  new_test_data.append(new_img_array_test)"
      ],
      "execution_count": 17,
      "outputs": []
    },
    {
      "cell_type": "markdown",
      "metadata": {
        "id": "ZqSujaW0CRi9"
      },
      "source": [
        "## Data Pre-processing on test_data\n"
      ]
    },
    {
      "cell_type": "code",
      "metadata": {
        "id": "pQWUBcCp215g"
      },
      "source": [
        "test_arr = np.array(new_test_data)"
      ],
      "execution_count": 18,
      "outputs": []
    },
    {
      "cell_type": "code",
      "metadata": {
        "id": "Wy7-NZ7TCiSQ",
        "colab": {
          "base_uri": "https://localhost:8080/"
        },
        "outputId": "c45ce4a3-c42f-484d-fb0e-9ef45f2b85df"
      },
      "source": [
        "test_arr"
      ],
      "execution_count": null,
      "outputs": [
        {
          "output_type": "execute_result",
          "data": {
            "text/plain": [
              "array([[[138, 140, 142, ..., 162, 167, 168],\n",
              "        [140, 134, 137, ..., 159, 162, 161],\n",
              "        [115, 131, 127, ..., 159, 158, 153],\n",
              "        ...,\n",
              "        [151, 164, 171, ..., 171, 159, 157],\n",
              "        [147, 159, 165, ..., 166, 159, 154],\n",
              "        [151, 160, 168, ..., 161, 150, 148]],\n",
              "\n",
              "       [[163, 172, 156, ...,  84,  93,  85],\n",
              "        [148, 158, 144, ...,  77,  75,  69],\n",
              "        [136, 142, 128, ...,  67,  66,  68],\n",
              "        ...,\n",
              "        [114, 109, 108, ..., 129, 134, 144],\n",
              "        [116, 119, 124, ..., 120, 134, 136],\n",
              "        [112, 124, 123, ..., 120, 131, 122]],\n",
              "\n",
              "       [[206, 200, 193, ..., 169, 176, 184],\n",
              "        [205, 203, 186, ..., 171, 175, 180],\n",
              "        [201, 202, 183, ..., 150, 156, 164],\n",
              "        ...,\n",
              "        [216, 218, 215, ..., 211, 214, 218],\n",
              "        [215, 217, 218, ..., 215, 219, 222],\n",
              "        [212, 217, 217, ..., 214, 220, 221]],\n",
              "\n",
              "       ...,\n",
              "\n",
              "       [[146, 149, 151, ..., 139, 142, 143],\n",
              "        [150, 151, 155, ..., 139, 140, 140],\n",
              "        [151, 150, 154, ..., 138, 139, 138],\n",
              "        ...,\n",
              "        [135, 132, 130, ..., 135, 137, 136],\n",
              "        [134, 132, 129, ..., 134, 136, 134],\n",
              "        [136, 134, 131, ..., 133, 136, 134]],\n",
              "\n",
              "       [[186, 184, 186, ..., 193, 194, 198],\n",
              "        [189, 189, 191, ..., 192, 193, 198],\n",
              "        [189, 191, 192, ..., 193, 192, 197],\n",
              "        ...,\n",
              "        [210, 208, 206, ..., 216, 216, 217],\n",
              "        [209, 208, 206, ..., 218, 217, 218],\n",
              "        [210, 207, 205, ..., 216, 219, 219]],\n",
              "\n",
              "       [[226, 224, 222, ..., 184, 175, 169],\n",
              "        [227, 225, 223, ..., 178, 172, 173],\n",
              "        [226, 224, 220, ..., 170, 166, 171],\n",
              "        ...,\n",
              "        [181, 173, 174, ..., 200, 201, 205],\n",
              "        [181, 172, 174, ..., 200, 199, 202],\n",
              "        [183, 177, 174, ..., 200, 198, 201]]], dtype=uint8)"
            ]
          },
          "metadata": {
            "tags": []
          },
          "execution_count": 29
        }
      ]
    },
    {
      "cell_type": "code",
      "metadata": {
        "id": "KHEGEoz1qpUb",
        "colab": {
          "base_uri": "https://localhost:8080/"
        },
        "outputId": "06baf6ce-5835-47a0-da62-48df6068a647"
      },
      "source": [
        "test_arr.shape"
      ],
      "execution_count": 19,
      "outputs": [
        {
          "output_type": "execute_result",
          "data": {
            "text/plain": [
              "(2305, 32, 32)"
            ]
          },
          "metadata": {
            "tags": []
          },
          "execution_count": 19
        }
      ]
    },
    {
      "cell_type": "code",
      "metadata": {
        "id": "7KNDswlffvYq",
        "colab": {
          "base_uri": "https://localhost:8080/"
        },
        "outputId": "8336e47f-522d-4903-e5dd-1749c11916b4"
      },
      "source": [
        "# reshape into 3 channels for feeding into the model\n",
        "test_images_3ch = np.stack([test_arr]*3, axis=-1)\n",
        "print('\\nTest_images.shape: {}, of {}'.format(test_images_3ch.shape, test_images_3ch.dtype))"
      ],
      "execution_count": 20,
      "outputs": [
        {
          "output_type": "stream",
          "text": [
            "\n",
            "Test_images.shape: (2305, 32, 32, 3), of uint8\n"
          ],
          "name": "stdout"
        }
      ]
    },
    {
      "cell_type": "code",
      "metadata": {
        "id": "lIeL1SHdCAcf"
      },
      "source": [
        "# normalisation\n",
        "test_images_scaled = test_images_3ch / 255."
      ],
      "execution_count": 21,
      "outputs": []
    },
    {
      "cell_type": "markdown",
      "metadata": {
        "id": "AxtDS6-0J0s2"
      },
      "source": [
        "## Make Prediction on Test Dataset"
      ]
    },
    {
      "cell_type": "code",
      "metadata": {
        "id": "yXLCDKVrJuzY"
      },
      "source": [
        "test_predictions = model.predict(test_images_scaled)"
      ],
      "execution_count": 22,
      "outputs": []
    },
    {
      "cell_type": "code",
      "metadata": {
        "id": "bMh35Wogw3xn"
      },
      "source": [
        "images_test['predictprobability'] = test_predictions"
      ],
      "execution_count": 23,
      "outputs": []
    },
    {
      "cell_type": "code",
      "metadata": {
        "id": "HqX-PljsxO0O"
      },
      "source": [
        "def convert_to_label (row):\n",
        "  if row['predictprobability'] >=0.5:\n",
        "    return 'male'\n",
        "  else:\n",
        "    return 'female'\n",
        "\n",
        "images_test['predictlabel'] = images_test.apply(convert_to_label, axis=1)"
      ],
      "execution_count": 24,
      "outputs": []
    },
    {
      "cell_type": "code",
      "metadata": {
        "colab": {
          "base_uri": "https://localhost:8080/",
          "height": 200
        },
        "id": "oUgvbHDq089T",
        "outputId": "fe1794fa-ac77-4ba6-fbac-2f169e215d9b"
      },
      "source": [
        "images_test.head()"
      ],
      "execution_count": 25,
      "outputs": [
        {
          "output_type": "execute_result",
          "data": {
            "text/html": [
              "<div>\n",
              "<style scoped>\n",
              "    .dataframe tbody tr th:only-of-type {\n",
              "        vertical-align: middle;\n",
              "    }\n",
              "\n",
              "    .dataframe tbody tr th {\n",
              "        vertical-align: top;\n",
              "    }\n",
              "\n",
              "    .dataframe thead th {\n",
              "        text-align: right;\n",
              "    }\n",
              "</style>\n",
              "<table border=\"1\" class=\"dataframe\">\n",
              "  <thead>\n",
              "    <tr style=\"text-align: right;\">\n",
              "      <th></th>\n",
              "      <th>filename</th>\n",
              "      <th>filepaths</th>\n",
              "      <th>predictprobability</th>\n",
              "      <th>predictlabel</th>\n",
              "    </tr>\n",
              "  </thead>\n",
              "  <tbody>\n",
              "    <tr>\n",
              "      <th>0</th>\n",
              "      <td>Image_1.jpg</td>\n",
              "      <td>/content/content/eye_gender_data/test/Image_1.jpg</td>\n",
              "      <td>0.999559</td>\n",
              "      <td>male</td>\n",
              "    </tr>\n",
              "    <tr>\n",
              "      <th>1</th>\n",
              "      <td>Image_2.jpg</td>\n",
              "      <td>/content/content/eye_gender_data/test/Image_2.jpg</td>\n",
              "      <td>0.939506</td>\n",
              "      <td>male</td>\n",
              "    </tr>\n",
              "    <tr>\n",
              "      <th>2</th>\n",
              "      <td>Image_3.jpg</td>\n",
              "      <td>/content/content/eye_gender_data/test/Image_3.jpg</td>\n",
              "      <td>0.992196</td>\n",
              "      <td>male</td>\n",
              "    </tr>\n",
              "    <tr>\n",
              "      <th>3</th>\n",
              "      <td>Image_4.jpg</td>\n",
              "      <td>/content/content/eye_gender_data/test/Image_4.jpg</td>\n",
              "      <td>0.995121</td>\n",
              "      <td>male</td>\n",
              "    </tr>\n",
              "    <tr>\n",
              "      <th>4</th>\n",
              "      <td>Image_5.jpg</td>\n",
              "      <td>/content/content/eye_gender_data/test/Image_5.jpg</td>\n",
              "      <td>0.999794</td>\n",
              "      <td>male</td>\n",
              "    </tr>\n",
              "  </tbody>\n",
              "</table>\n",
              "</div>"
            ],
            "text/plain": [
              "      filename  ... predictlabel\n",
              "0  Image_1.jpg  ...         male\n",
              "1  Image_2.jpg  ...         male\n",
              "2  Image_3.jpg  ...         male\n",
              "3  Image_4.jpg  ...         male\n",
              "4  Image_5.jpg  ...         male\n",
              "\n",
              "[5 rows x 4 columns]"
            ]
          },
          "metadata": {
            "tags": []
          },
          "execution_count": 25
        }
      ]
    },
    {
      "cell_type": "code",
      "metadata": {
        "colab": {
          "base_uri": "https://localhost:8080/",
          "height": 200
        },
        "id": "5aXgvbj-0_Mm",
        "outputId": "c9249037-a053-4ddc-8c3d-e88b606c0fc2"
      },
      "source": [
        "images_test.tail()"
      ],
      "execution_count": 26,
      "outputs": [
        {
          "output_type": "execute_result",
          "data": {
            "text/html": [
              "<div>\n",
              "<style scoped>\n",
              "    .dataframe tbody tr th:only-of-type {\n",
              "        vertical-align: middle;\n",
              "    }\n",
              "\n",
              "    .dataframe tbody tr th {\n",
              "        vertical-align: top;\n",
              "    }\n",
              "\n",
              "    .dataframe thead th {\n",
              "        text-align: right;\n",
              "    }\n",
              "</style>\n",
              "<table border=\"1\" class=\"dataframe\">\n",
              "  <thead>\n",
              "    <tr style=\"text-align: right;\">\n",
              "      <th></th>\n",
              "      <th>filename</th>\n",
              "      <th>filepaths</th>\n",
              "      <th>predictprobability</th>\n",
              "      <th>predictlabel</th>\n",
              "    </tr>\n",
              "  </thead>\n",
              "  <tbody>\n",
              "    <tr>\n",
              "      <th>2300</th>\n",
              "      <td>Image_2301.jpg</td>\n",
              "      <td>/content/content/eye_gender_data/test/Image_23...</td>\n",
              "      <td>0.015451</td>\n",
              "      <td>female</td>\n",
              "    </tr>\n",
              "    <tr>\n",
              "      <th>2301</th>\n",
              "      <td>Image_2302.jpg</td>\n",
              "      <td>/content/content/eye_gender_data/test/Image_23...</td>\n",
              "      <td>0.004437</td>\n",
              "      <td>female</td>\n",
              "    </tr>\n",
              "    <tr>\n",
              "      <th>2302</th>\n",
              "      <td>Image_2303.jpg</td>\n",
              "      <td>/content/content/eye_gender_data/test/Image_23...</td>\n",
              "      <td>0.999947</td>\n",
              "      <td>male</td>\n",
              "    </tr>\n",
              "    <tr>\n",
              "      <th>2303</th>\n",
              "      <td>Image_2304.jpg</td>\n",
              "      <td>/content/content/eye_gender_data/test/Image_23...</td>\n",
              "      <td>0.999949</td>\n",
              "      <td>male</td>\n",
              "    </tr>\n",
              "    <tr>\n",
              "      <th>2304</th>\n",
              "      <td>Image_2305.jpg</td>\n",
              "      <td>/content/content/eye_gender_data/test/Image_23...</td>\n",
              "      <td>0.917629</td>\n",
              "      <td>male</td>\n",
              "    </tr>\n",
              "  </tbody>\n",
              "</table>\n",
              "</div>"
            ],
            "text/plain": [
              "            filename  ... predictlabel\n",
              "2300  Image_2301.jpg  ...       female\n",
              "2301  Image_2302.jpg  ...       female\n",
              "2302  Image_2303.jpg  ...         male\n",
              "2303  Image_2304.jpg  ...         male\n",
              "2304  Image_2305.jpg  ...         male\n",
              "\n",
              "[5 rows x 4 columns]"
            ]
          },
          "metadata": {
            "tags": []
          },
          "execution_count": 26
        }
      ]
    },
    {
      "cell_type": "code",
      "metadata": {
        "colab": {
          "base_uri": "https://localhost:8080/",
          "height": 17
        },
        "id": "QYtTrvdc1JrO",
        "outputId": "640d3a48-8a22-4ce1-8c63-65b7810e2d4f"
      },
      "source": [
        "# Save prediction results locally via colab notebook\n",
        "images_test.to_csv(\"images_test.csv\", index = False) \n",
        "\n",
        "# To download the csv file locally\n",
        "from google.colab import files        \n",
        "files.download('images_test.csv')"
      ],
      "execution_count": 27,
      "outputs": [
        {
          "output_type": "display_data",
          "data": {
            "application/javascript": [
              "\n",
              "    async function download(id, filename, size) {\n",
              "      if (!google.colab.kernel.accessAllowed) {\n",
              "        return;\n",
              "      }\n",
              "      const div = document.createElement('div');\n",
              "      const label = document.createElement('label');\n",
              "      label.textContent = `Downloading \"${filename}\": `;\n",
              "      div.appendChild(label);\n",
              "      const progress = document.createElement('progress');\n",
              "      progress.max = size;\n",
              "      div.appendChild(progress);\n",
              "      document.body.appendChild(div);\n",
              "\n",
              "      const buffers = [];\n",
              "      let downloaded = 0;\n",
              "\n",
              "      const channel = await google.colab.kernel.comms.open(id);\n",
              "      // Send a message to notify the kernel that we're ready.\n",
              "      channel.send({})\n",
              "\n",
              "      for await (const message of channel.messages) {\n",
              "        // Send a message to notify the kernel that we're ready.\n",
              "        channel.send({})\n",
              "        if (message.buffers) {\n",
              "          for (const buffer of message.buffers) {\n",
              "            buffers.push(buffer);\n",
              "            downloaded += buffer.byteLength;\n",
              "            progress.value = downloaded;\n",
              "          }\n",
              "        }\n",
              "      }\n",
              "      const blob = new Blob(buffers, {type: 'application/binary'});\n",
              "      const a = document.createElement('a');\n",
              "      a.href = window.URL.createObjectURL(blob);\n",
              "      a.download = filename;\n",
              "      div.appendChild(a);\n",
              "      a.click();\n",
              "      div.remove();\n",
              "    }\n",
              "  "
            ],
            "text/plain": [
              "<IPython.core.display.Javascript object>"
            ]
          },
          "metadata": {
            "tags": []
          }
        },
        {
          "output_type": "display_data",
          "data": {
            "application/javascript": [
              "download(\"download_cdeeacb9-ef4e-46ad-88ce-8f130422cef9\", \"images_test.csv\", 194023)"
            ],
            "text/plain": [
              "<IPython.core.display.Javascript object>"
            ]
          },
          "metadata": {
            "tags": []
          }
        }
      ]
    }
  ]
}