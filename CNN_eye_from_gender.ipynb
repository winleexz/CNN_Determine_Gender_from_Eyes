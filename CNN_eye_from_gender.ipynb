{
  "nbformat": 4,
  "nbformat_minor": 0,
  "metadata": {
    "colab": {
      "name": "CNN final assignment - eye.ipynb",
      "provenance": [],
      "collapsed_sections": []
    },
    "kernelspec": {
      "name": "python3",
      "display_name": "Python 3"
    }
  },
  "cells": [
    {
      "cell_type": "markdown",
      "metadata": {
        "id": "SfMK5FEhUGde"
      },
      "source": [
        "## Download the images\n",
        "\n",
        "\n",
        "We can use **GoogleDriveDownloader** form **google_drive_downloader** library in Python to download the shared files from the shared Google drive link: https://drive.google.com/file/d/1f7uslI-ZHidriQFZR966_aILjlkgDN76/view?usp=sharing\n",
        "\n",
        "The file id in the above link is: **1f7uslI-ZHidriQFZR966_aILjlkgDN76**"
      ]
    },
    {
      "cell_type": "code",
      "metadata": {
        "id": "5_1BysB4Re7f",
        "colab": {
          "base_uri": "https://localhost:8080/"
        },
        "outputId": "fda11145-4168-4e21-8b56-05cde447217e"
      },
      "source": [
        "from google_drive_downloader import GoogleDriveDownloader as gdd\n",
        "\n",
        "gdd.download_file_from_google_drive(file_id='1f7uslI-ZHidriQFZR966_aILjlkgDN76',\n",
        "                                    dest_path='content/eye_gender_data.zip',\n",
        "                                    unzip=True)"
      ],
      "execution_count": 1,
      "outputs": [
        {
          "output_type": "stream",
          "text": [
            "Downloading 1f7uslI-ZHidriQFZR966_aILjlkgDN76 into content/eye_gender_data.zip... Done.\n",
            "Unzipping...Done.\n"
          ],
          "name": "stdout"
        }
      ]
    },
    {
      "cell_type": "markdown",
      "metadata": {
        "id": "SM_FDQgXbh_-"
      },
      "source": [
        "We have all the files from the shared Google drive link downloaded in the colab environment."
      ]
    },
    {
      "cell_type": "markdown",
      "metadata": {
        "id": "wsIqjb7Ebs3B"
      },
      "source": [
        "## Loading Libraries\n",
        "All Python capabilities are not loaded to our working environment by default (even they are already installed in your system). So, we import each and every library that we want to use.\n",
        "\n",
        "We chose alias names for our libraries for the sake of our convenience (numpy --> np and pandas --> pd, tensorlow --> tf).\n",
        "\n",
        "Note: You can import all the libraries that you think will be required or can import it as you go along."
      ]
    },
    {
      "cell_type": "code",
      "metadata": {
        "id": "BIe16kmoUmhr"
      },
      "source": [
        "import pandas as pd                                     # Data analysis and manipultion tool\n",
        "import numpy as np                                      # Fundamental package for linear algebra and multidimensional arrays\n",
        "import tensorflow as tf                                 # Deep Learning Tool\n",
        "import os                                               # OS module in Python provides a way of using operating system dependent functionality\n",
        "import cv2                                              # Library for image processing\n",
        "from sklearn.model_selection import train_test_split    # For splitting the data into train and validation set\n",
        "from sklearn.metrics import f1_score\n",
        "import matplotlib.pyplot as plt"
      ],
      "execution_count": 17,
      "outputs": []
    },
    {
      "cell_type": "markdown",
      "metadata": {
        "id": "IAXqCpedduVx"
      },
      "source": [
        "## Loading and preparing training data\n"
      ]
    },
    {
      "cell_type": "code",
      "metadata": {
        "id": "vMXmX8g3dflK"
      },
      "source": [
        "labels = pd.read_csv(\"/content/content/eye_gender_data/Training_set.csv\")   # loading the labels\n",
        "file_paths = [[fname, '/content/content/eye_gender_data/train/' + fname] for fname in labels['filename']]\n",
        "images = pd.DataFrame(file_paths, columns=['filename', 'filepaths'])\n",
        "train_data = pd.merge(images, labels, how = 'inner', on = 'filename')\n",
        "\n",
        "data = []     # initialize an empty numpy array\n",
        "image_size = 32      # image size taken is 32 here. \n",
        "\n",
        "for i in range(len(train_data)):\n",
        "  \n",
        "  img_array = cv2.imread(train_data['filepaths'][i], cv2.IMREAD_GRAYSCALE)   # converting the image to gray scale\n",
        "  new_img_array = cv2.resize(img_array, (image_size, image_size))      # resizing the image array\n",
        "  data.append(new_img_array) "
      ],
      "execution_count": null,
      "outputs": []
    },
    {
      "cell_type": "markdown",
      "metadata": {
        "id": "BvIxaRD6sn3m"
      },
      "source": [
        "## Data Pre-processing\n",
        "It is necessary to bring all the images in the same shape and size, also convert them to their pixel values because all machine learning or deep learning models accepts only the numerical data. Also we need to convert all the labels from categorical to numerical values."
      ]
    },
    {
      "cell_type": "code",
      "metadata": {
        "id": "ZeRRAYJh2I0i"
      },
      "source": [
        "arr = np.array(data)"
      ],
      "execution_count": null,
      "outputs": []
    },
    {
      "cell_type": "code",
      "metadata": {
        "colab": {
          "base_uri": "https://localhost:8080/"
        },
        "id": "YRC8bBYwUvGi",
        "outputId": "005961e8-7183-47ca-fe75-0aaf6b885b17"
      },
      "source": [
        "arr"
      ],
      "execution_count": 4,
      "outputs": [
        {
          "output_type": "execute_result",
          "data": {
            "text/plain": [
              "array([[[189, 188, 182, ..., 178, 177, 172],\n",
              "        [187, 179, 179, ..., 175, 172, 162],\n",
              "        [185, 181, 184, ..., 168, 157, 149],\n",
              "        ...,\n",
              "        [142, 136, 148, ..., 164, 162, 164],\n",
              "        [140, 150, 161, ..., 169, 164, 164],\n",
              "        [139, 154, 163, ..., 173, 167, 164]],\n",
              "\n",
              "       [[170, 175, 172, ..., 190, 193, 194],\n",
              "        [165, 152, 136, ..., 186, 189, 191],\n",
              "        [147, 124, 107, ..., 183, 189, 193],\n",
              "        ...,\n",
              "        [188, 189, 190, ..., 191, 197, 202],\n",
              "        [187, 190, 190, ..., 195, 197, 196],\n",
              "        [186, 190, 190, ..., 200, 201, 197]],\n",
              "\n",
              "       [[176, 172, 172, ..., 135, 128, 127],\n",
              "        [168, 165, 165, ...,  91, 114, 111],\n",
              "        [164, 165, 162, ...,  76,  62,  68],\n",
              "        ...,\n",
              "        [131, 143, 148, ..., 115, 112, 103],\n",
              "        [131, 145, 150, ..., 113, 108,  99],\n",
              "        [130, 144, 150, ..., 114, 106,  95]],\n",
              "\n",
              "       ...,\n",
              "\n",
              "       [[190, 175, 169, ..., 100, 115, 135],\n",
              "        [177, 161, 147, ...,  83, 103, 101],\n",
              "        [158, 138, 130, ...,  74,  72,  64],\n",
              "        ...,\n",
              "        [144, 137, 134, ..., 150, 151, 148],\n",
              "        [147, 139, 138, ..., 148, 149, 149],\n",
              "        [145, 138, 137, ..., 151, 155, 153]],\n",
              "\n",
              "       [[142, 137, 137, ..., 129, 135, 141],\n",
              "        [141, 142, 128, ..., 107, 117, 126],\n",
              "        [138, 126, 118, ..., 102, 106, 117],\n",
              "        ...,\n",
              "        [157, 147, 143, ..., 154, 153, 171],\n",
              "        [160, 160, 153, ..., 153, 154, 177],\n",
              "        [158, 163, 160, ..., 155, 170, 175]],\n",
              "\n",
              "       [[225, 226, 223, ..., 144, 146, 153],\n",
              "        [223, 224, 223, ..., 146, 144, 130],\n",
              "        [222, 220, 225, ..., 148, 154, 163],\n",
              "        ...,\n",
              "        [205, 195, 194, ..., 223, 219, 221],\n",
              "        [206, 199, 197, ..., 220, 220, 221],\n",
              "        [209, 204, 202, ..., 222, 222, 221]]], dtype=uint8)"
            ]
          },
          "metadata": {
            "tags": []
          },
          "execution_count": 4
        }
      ]
    },
    {
      "cell_type": "code",
      "metadata": {
        "colab": {
          "base_uri": "https://localhost:8080/"
        },
        "id": "e4puB71FU6xl",
        "outputId": "e69a1447-20df-4ab6-f079-86668cdc88bd"
      },
      "source": [
        "arr.shape"
      ],
      "execution_count": 5,
      "outputs": [
        {
          "output_type": "execute_result",
          "data": {
            "text/plain": [
              "(9220, 32, 32)"
            ]
          },
          "metadata": {
            "tags": []
          },
          "execution_count": 5
        }
      ]
    },
    {
      "cell_type": "code",
      "metadata": {
        "colab": {
          "base_uri": "https://localhost:8080/"
        },
        "id": "2SM7bhmwDAG8",
        "outputId": "38e69d9d-5a5d-4b65-aefa-4a22bf0f1ef8"
      },
      "source": [
        "# reshape into 3 channels for feeding into the model\n",
        "train_images_3ch = np.stack([arr]*3, axis=-1)\n",
        "print('\\nTrain_images.shape: {}, of {}'.format(train_images_3ch.shape, train_images_3ch.dtype))"
      ],
      "execution_count": 6,
      "outputs": [
        {
          "output_type": "stream",
          "text": [
            "\n",
            "Train_images.shape: (9220, 32, 32, 3), of uint8\n"
          ],
          "name": "stdout"
        }
      ]
    },
    {
      "cell_type": "code",
      "metadata": {
        "id": "vxPiZCLpsWrd"
      },
      "source": [
        "# normalisation\n",
        "train_images_scaled = train_images_3ch / 255."
      ],
      "execution_count": 7,
      "outputs": []
    },
    {
      "cell_type": "code",
      "metadata": {
        "colab": {
          "base_uri": "https://localhost:8080/"
        },
        "id": "ypkgeyllXtDT",
        "outputId": "39496a0a-17f4-4a71-b1c3-16250682a45c"
      },
      "source": [
        "# encode labels\n",
        "from sklearn.preprocessing import LabelEncoder\n",
        "le = LabelEncoder()\n",
        "train_labels = le.fit_transform(train_data[['label']])"
      ],
      "execution_count": 9,
      "outputs": [
        {
          "output_type": "stream",
          "text": [
            "/usr/local/lib/python3.7/dist-packages/sklearn/preprocessing/_label.py:251: DataConversionWarning: A column-vector y was passed when a 1d array was expected. Please change the shape of y to (n_samples, ), for example using ravel().\n",
            "  y = column_or_1d(y, warn=True)\n"
          ],
          "name": "stderr"
        }
      ]
    },
    {
      "cell_type": "code",
      "metadata": {
        "colab": {
          "base_uri": "https://localhost:8080/"
        },
        "id": "MxvuOgzqHvAo",
        "outputId": "9a0636f7-0a1e-4712-c89a-500e97f3ca73"
      },
      "source": [
        "train_labels.shape"
      ],
      "execution_count": null,
      "outputs": [
        {
          "output_type": "execute_result",
          "data": {
            "text/plain": [
              "(9220,)"
            ]
          },
          "metadata": {
            "tags": []
          },
          "execution_count": 133
        }
      ]
    },
    {
      "cell_type": "markdown",
      "metadata": {
        "id": "cDCZ53yE7340"
      },
      "source": [
        "## Building Model & Hyperparameter tuning\n",
        "Now we are finally ready, and we can train the model.\n"
      ]
    },
    {
      "cell_type": "code",
      "metadata": {
        "id": "kOKWYA6Ua4Uh",
        "colab": {
          "base_uri": "https://localhost:8080/"
        },
        "outputId": "b19b9b28-9a56-4544-ac86-b98f57e35f14"
      },
      "source": [
        "# Build Cut-VGG19 Model\n",
        "\n",
        "# define input shape\n",
        "INPUT_SHAPE = (32, 32, 3)\n",
        "\n",
        "# get the VGG19 model\n",
        "vgg_layers = tf.keras.applications.vgg19.VGG19(weights='imagenet', include_top=False, \n",
        "                                               input_shape=INPUT_SHAPE) \n",
        "\n",
        "vgg_layers.summary()"
      ],
      "execution_count": 12,
      "outputs": [
        {
          "output_type": "stream",
          "text": [
            "Downloading data from https://storage.googleapis.com/tensorflow/keras-applications/vgg19/vgg19_weights_tf_dim_ordering_tf_kernels_notop.h5\n",
            "80142336/80134624 [==============================] - 1s 0us/step\n",
            "Model: \"vgg19\"\n",
            "_________________________________________________________________\n",
            "Layer (type)                 Output Shape              Param #   \n",
            "=================================================================\n",
            "input_1 (InputLayer)         [(None, 32, 32, 3)]       0         \n",
            "_________________________________________________________________\n",
            "block1_conv1 (Conv2D)        (None, 32, 32, 64)        1792      \n",
            "_________________________________________________________________\n",
            "block1_conv2 (Conv2D)        (None, 32, 32, 64)        36928     \n",
            "_________________________________________________________________\n",
            "block1_pool (MaxPooling2D)   (None, 16, 16, 64)        0         \n",
            "_________________________________________________________________\n",
            "block2_conv1 (Conv2D)        (None, 16, 16, 128)       73856     \n",
            "_________________________________________________________________\n",
            "block2_conv2 (Conv2D)        (None, 16, 16, 128)       147584    \n",
            "_________________________________________________________________\n",
            "block2_pool (MaxPooling2D)   (None, 8, 8, 128)         0         \n",
            "_________________________________________________________________\n",
            "block3_conv1 (Conv2D)        (None, 8, 8, 256)         295168    \n",
            "_________________________________________________________________\n",
            "block3_conv2 (Conv2D)        (None, 8, 8, 256)         590080    \n",
            "_________________________________________________________________\n",
            "block3_conv3 (Conv2D)        (None, 8, 8, 256)         590080    \n",
            "_________________________________________________________________\n",
            "block3_conv4 (Conv2D)        (None, 8, 8, 256)         590080    \n",
            "_________________________________________________________________\n",
            "block3_pool (MaxPooling2D)   (None, 4, 4, 256)         0         \n",
            "_________________________________________________________________\n",
            "block4_conv1 (Conv2D)        (None, 4, 4, 512)         1180160   \n",
            "_________________________________________________________________\n",
            "block4_conv2 (Conv2D)        (None, 4, 4, 512)         2359808   \n",
            "_________________________________________________________________\n",
            "block4_conv3 (Conv2D)        (None, 4, 4, 512)         2359808   \n",
            "_________________________________________________________________\n",
            "block4_conv4 (Conv2D)        (None, 4, 4, 512)         2359808   \n",
            "_________________________________________________________________\n",
            "block4_pool (MaxPooling2D)   (None, 2, 2, 512)         0         \n",
            "_________________________________________________________________\n",
            "block5_conv1 (Conv2D)        (None, 2, 2, 512)         2359808   \n",
            "_________________________________________________________________\n",
            "block5_conv2 (Conv2D)        (None, 2, 2, 512)         2359808   \n",
            "_________________________________________________________________\n",
            "block5_conv3 (Conv2D)        (None, 2, 2, 512)         2359808   \n",
            "_________________________________________________________________\n",
            "block5_conv4 (Conv2D)        (None, 2, 2, 512)         2359808   \n",
            "_________________________________________________________________\n",
            "block5_pool (MaxPooling2D)   (None, 1, 1, 512)         0         \n",
            "=================================================================\n",
            "Total params: 20,024,384\n",
            "Trainable params: 20,024,384\n",
            "Non-trainable params: 0\n",
            "_________________________________________________________________\n"
          ],
          "name": "stdout"
        }
      ]
    },
    {
      "cell_type": "code",
      "metadata": {
        "id": "ZQWMyQLva53K",
        "colab": {
          "base_uri": "https://localhost:8080/"
        },
        "outputId": "55498f82-7a24-478e-9a18-f3062c943a2f"
      },
      "source": [
        "# Fine-tune all the layers\n",
        "for layer in vgg_layers.layers:\n",
        "    layer.trainable = True \n",
        "\n",
        "# Check the trainable status of the individual layers\n",
        "for layer in vgg_layers.layers:\n",
        "    print(layer, layer.trainable)"
      ],
      "execution_count": 13,
      "outputs": [
        {
          "output_type": "stream",
          "text": [
            "<tensorflow.python.keras.engine.input_layer.InputLayer object at 0x7fbed9af9890> True\n",
            "<tensorflow.python.keras.layers.convolutional.Conv2D object at 0x7fbed91b2e50> True\n",
            "<tensorflow.python.keras.layers.convolutional.Conv2D object at 0x7fbed9065d50> True\n",
            "<tensorflow.python.keras.layers.pooling.MaxPooling2D object at 0x7fbed583f410> True\n",
            "<tensorflow.python.keras.layers.convolutional.Conv2D object at 0x7fbed5848310> True\n",
            "<tensorflow.python.keras.layers.convolutional.Conv2D object at 0x7fbed5852210> True\n",
            "<tensorflow.python.keras.layers.pooling.MaxPooling2D object at 0x7fbed583fdd0> True\n",
            "<tensorflow.python.keras.layers.convolutional.Conv2D object at 0x7fbed585b4d0> True\n",
            "<tensorflow.python.keras.layers.convolutional.Conv2D object at 0x7fbed585ea50> True\n",
            "<tensorflow.python.keras.layers.convolutional.Conv2D object at 0x7fbed585b910> True\n",
            "<tensorflow.python.keras.layers.convolutional.Conv2D object at 0x7fbed586d510> True\n",
            "<tensorflow.python.keras.layers.pooling.MaxPooling2D object at 0x7fbed57f4590> True\n",
            "<tensorflow.python.keras.layers.convolutional.Conv2D object at 0x7fbed57ef390> True\n",
            "<tensorflow.python.keras.layers.convolutional.Conv2D object at 0x7fbed586a450> True\n",
            "<tensorflow.python.keras.layers.convolutional.Conv2D object at 0x7fbed583f690> True\n",
            "<tensorflow.python.keras.layers.convolutional.Conv2D object at 0x7fbed57f8410> True\n",
            "<tensorflow.python.keras.layers.pooling.MaxPooling2D object at 0x7fbed586d110> True\n",
            "<tensorflow.python.keras.layers.convolutional.Conv2D object at 0x7fbed5800750> True\n",
            "<tensorflow.python.keras.layers.convolutional.Conv2D object at 0x7fbed58074d0> True\n",
            "<tensorflow.python.keras.layers.convolutional.Conv2D object at 0x7fbed5800690> True\n",
            "<tensorflow.python.keras.layers.convolutional.Conv2D object at 0x7fbed580f810> True\n",
            "<tensorflow.python.keras.layers.pooling.MaxPooling2D object at 0x7fbed5819890> True\n"
          ],
          "name": "stdout"
        }
      ]
    },
    {
      "cell_type": "code",
      "metadata": {
        "id": "_jkmDd6PbAJH",
        "colab": {
          "base_uri": "https://localhost:8080/"
        },
        "outputId": "8703a804-197d-4bf7-85ed-7e7079406901"
      },
      "source": [
        "# Build CNN model on top of VGG19\n",
        "\n",
        "# define sequential model\n",
        "model = tf.keras.models.Sequential()\n",
        "\n",
        "# Add the vgg convolutional base model\n",
        "model.add(vgg_layers)\n",
        "\n",
        "# add flatten layer\n",
        "model.add(tf.keras.layers.Flatten())\n",
        "\n",
        "# add dense layers with some dropout\n",
        "model.add(tf.keras.layers.Dense(256, activation='relu'))\n",
        "model.add(tf.keras.layers.Dropout(rate=0.3))\n",
        "model.add(tf.keras.layers.Dense(256, activation='relu'))\n",
        "model.add(tf.keras.layers.Dropout(rate=0.3))\n",
        "\n",
        "# add output layer\n",
        "model.add(tf.keras.layers.Dense(1, activation='sigmoid')) #single node with ‘sigmoid‘ activation to predict the probability for class 1.\n",
        "\n",
        "# compile model\n",
        "model.compile(optimizer=tf.keras.optimizers.Adam(learning_rate=2e-5), \n",
        "              loss='binary_crossentropy', \n",
        "              metrics=['accuracy'])\n",
        "\n",
        "# view model layers\n",
        "model.summary()"
      ],
      "execution_count": 14,
      "outputs": [
        {
          "output_type": "stream",
          "text": [
            "Model: \"sequential\"\n",
            "_________________________________________________________________\n",
            "Layer (type)                 Output Shape              Param #   \n",
            "=================================================================\n",
            "vgg19 (Functional)           (None, 1, 1, 512)         20024384  \n",
            "_________________________________________________________________\n",
            "flatten (Flatten)            (None, 512)               0         \n",
            "_________________________________________________________________\n",
            "dense (Dense)                (None, 256)               131328    \n",
            "_________________________________________________________________\n",
            "dropout (Dropout)            (None, 256)               0         \n",
            "_________________________________________________________________\n",
            "dense_1 (Dense)              (None, 256)               65792     \n",
            "_________________________________________________________________\n",
            "dropout_1 (Dropout)          (None, 256)               0         \n",
            "_________________________________________________________________\n",
            "dense_2 (Dense)              (None, 1)                 257       \n",
            "=================================================================\n",
            "Total params: 20,221,761\n",
            "Trainable params: 20,221,761\n",
            "Non-trainable params: 0\n",
            "_________________________________________________________________\n"
          ],
          "name": "stdout"
        }
      ]
    },
    {
      "cell_type": "code",
      "metadata": {
        "colab": {
          "base_uri": "https://localhost:8080/"
        },
        "id": "eHDpTUcwG_e0",
        "outputId": "a0e4a848-383f-4479-cea2-a42f557c139c"
      },
      "source": [
        "EPOCHS = 30\n",
        "\n",
        "es_callback = tf.keras.callbacks.EarlyStopping(monitor='val_loss', patience=2, \n",
        "                                               restore_best_weights=True,\n",
        "                                               verbose=1)\n",
        "\n",
        "history = model.fit(train_images_scaled, train_labels,\n",
        "                    batch_size=256,\n",
        "                    callbacks=[es_callback], \n",
        "                    validation_split=0.1, epochs=EPOCHS, \n",
        "                    verbose=1)"
      ],
      "execution_count": 15,
      "outputs": [
        {
          "output_type": "stream",
          "text": [
            "Epoch 1/30\n",
            "33/33 [==============================] - 1088s 33s/step - loss: 0.5558 - accuracy: 0.7135 - val_loss: 0.3897 - val_accuracy: 0.8308\n",
            "Epoch 2/30\n",
            "33/33 [==============================] - 1072s 32s/step - loss: 0.3501 - accuracy: 0.8539 - val_loss: 0.2842 - val_accuracy: 0.8872\n",
            "Epoch 3/30\n",
            "33/33 [==============================] - 1084s 33s/step - loss: 0.2495 - accuracy: 0.8994 - val_loss: 0.2498 - val_accuracy: 0.8970\n",
            "Epoch 4/30\n",
            "33/33 [==============================] - 1053s 32s/step - loss: 0.2033 - accuracy: 0.9219 - val_loss: 0.2447 - val_accuracy: 0.8948\n",
            "Epoch 5/30\n",
            "33/33 [==============================] - 1075s 33s/step - loss: 0.1706 - accuracy: 0.9359 - val_loss: 0.2280 - val_accuracy: 0.9132\n",
            "Epoch 6/30\n",
            "33/33 [==============================] - 1049s 32s/step - loss: 0.1453 - accuracy: 0.9455 - val_loss: 0.2107 - val_accuracy: 0.9252\n",
            "Epoch 7/30\n",
            "33/33 [==============================] - 1035s 31s/step - loss: 0.1448 - accuracy: 0.9467 - val_loss: 0.1989 - val_accuracy: 0.9219\n",
            "Epoch 8/30\n",
            "33/33 [==============================] - 1055s 32s/step - loss: 0.1067 - accuracy: 0.9642 - val_loss: 0.2036 - val_accuracy: 0.9273\n",
            "Epoch 9/30\n",
            "33/33 [==============================] - 1060s 32s/step - loss: 0.1032 - accuracy: 0.9613 - val_loss: 0.1872 - val_accuracy: 0.9360\n",
            "Epoch 10/30\n",
            "33/33 [==============================] - 1032s 31s/step - loss: 0.1023 - accuracy: 0.9648 - val_loss: 0.2370 - val_accuracy: 0.9262\n",
            "Epoch 11/30\n",
            "33/33 [==============================] - 1034s 31s/step - loss: 0.0825 - accuracy: 0.9712 - val_loss: 0.2010 - val_accuracy: 0.9284\n",
            "Restoring model weights from the end of the best epoch.\n",
            "Epoch 00011: early stopping\n"
          ],
          "name": "stdout"
        }
      ]
    },
    {
      "cell_type": "markdown",
      "metadata": {
        "id": "tc3lSJ2a-OYt"
      },
      "source": [
        "## Validate the model\n"
      ]
    },
    {
      "cell_type": "code",
      "metadata": {
        "id": "jLfoImV7ds57",
        "colab": {
          "base_uri": "https://localhost:8080/",
          "height": 265
        },
        "outputId": "93b08bf3-ee4f-44b8-edce-a5875f490b69"
      },
      "source": [
        "# Plot Learning Curves\n",
        "fig, ax = plt.subplots(1, 2, figsize=(10, 4))\n",
        "\n",
        "history_df = pd.DataFrame(history.history)\n",
        "history_df[['loss', 'val_loss']].plot(kind='line', ax=ax[0])\n",
        "history_df[['accuracy', 'val_accuracy']].plot(kind='line', ax=ax[1]);"
      ],
      "execution_count": 18,
      "outputs": [
        {
          "output_type": "display_data",
          "data": {
            "image/png": "[encoded data removed]",
            "text/plain": [
              "<Figure size 720x288 with 2 Axes>"
            ]
          },
          "metadata": {
            "tags": [],
            "needs_background": "light"
          }
        }
      ]
    },
    {
      "cell_type": "code",
      "metadata": {
        "id": "CbpiNvC3r9PK",
        "colab": {
          "base_uri": "https://localhost:8080/"
        },
        "outputId": "9e7b8f6e-e469-4ddb-99df-4a6084b24360"
      },
      "source": [
        "# saving the model\n",
        "save_dir = \"/results/\"\n",
        "model_name = 'eye_model.h5'\n",
        "model.save(model_name)\n",
        "model_path = save_dir + model_name\n",
        "print('Saved trained model at %s ' % model_path)"
      ],
      "execution_count": 19,
      "outputs": [
        {
          "output_type": "stream",
          "text": [
            "Saved trained model at /results/eye_model.h5 \n"
          ],
          "name": "stdout"
        }
      ]
    },
    {
      "cell_type": "markdown",
      "metadata": {
        "id": "kLrpm-If-lRT"
      },
      "source": [
        "## Predict The Output For Testing Dataset 😅\n",
        "We have trained our model, evaluated it and now finally we will predict the output/target for the testing data (i.e. Test.csv)."
      ]
    },
    {
      "cell_type": "markdown",
      "metadata": {
        "id": "nG70J6Un-s2G"
      },
      "source": [
        "#### Load Test Set\n",
        "Load the test data on which final submission is to be made."
      ]
    },
    {
      "cell_type": "code",
      "metadata": {
        "id": "iji8OaFF-fSp"
      },
      "source": [
        "# refer to the instruction on word document\n",
        "test_data = pd.read_csv(\"/content/content/eye_gender_data/Testing_set.csv\" )"
      ],
      "execution_count": 20,
      "outputs": []
    },
    {
      "cell_type": "code",
      "metadata": {
        "id": "ndM4OOX_qP3a"
      },
      "source": [
        "file_paths_test = [[fname, '/content/content/eye_gender_data/test/' + fname] for fname in test_data['filename']]\n",
        "images_test = pd.DataFrame(file_paths_test, columns=['filename', 'filepaths'])\n",
        "\n",
        "new_test_data = []\n",
        "#image_size = 32 \n",
        "\n",
        "for i in range(len(images_test)):\n",
        "  \n",
        "  img_array_test = cv2.imread(images_test['filepaths'][i], cv2.IMREAD_GRAYSCALE)   # converting the image to gray scale\n",
        "  new_img_array_test = cv2.resize(img_array_test, (image_size, image_size))      # resizing the image array\n",
        "  new_test_data.append(new_img_array_test)"
      ],
      "execution_count": null,
      "outputs": []
    },
    {
      "cell_type": "markdown",
      "metadata": {
        "id": "ZqSujaW0CRi9"
      },
      "source": [
        "## Data Pre-processing on test_data\n"
      ]
    },
    {
      "cell_type": "code",
      "metadata": {
        "id": "pQWUBcCp215g"
      },
      "source": [
        "test_arr = np.array(new_test_data)"
      ],
      "execution_count": null,
      "outputs": []
    },
    {
      "cell_type": "code",
      "metadata": {
        "id": "Wy7-NZ7TCiSQ",
        "colab": {
          "base_uri": "https://localhost:8080/"
        },
        "outputId": "c45ce4a3-c42f-484d-fb0e-9ef45f2b85df"
      },
      "source": [
        "test_arr"
      ],
      "execution_count": 29,
      "outputs": [
        {
          "output_type": "execute_result",
          "data": {
            "text/plain": [
              "array([[[138, 140, 142, ..., 162, 167, 168],\n",
              "        [140, 134, 137, ..., 159, 162, 161],\n",
              "        [115, 131, 127, ..., 159, 158, 153],\n",
              "        ...,\n",
              "        [151, 164, 171, ..., 171, 159, 157],\n",
              "        [147, 159, 165, ..., 166, 159, 154],\n",
              "        [151, 160, 168, ..., 161, 150, 148]],\n",
              "\n",
              "       [[163, 172, 156, ...,  84,  93,  85],\n",
              "        [148, 158, 144, ...,  77,  75,  69],\n",
              "        [136, 142, 128, ...,  67,  66,  68],\n",
              "        ...,\n",
              "        [114, 109, 108, ..., 129, 134, 144],\n",
              "        [116, 119, 124, ..., 120, 134, 136],\n",
              "        [112, 124, 123, ..., 120, 131, 122]],\n",
              "\n",
              "       [[206, 200, 193, ..., 169, 176, 184],\n",
              "        [205, 203, 186, ..., 171, 175, 180],\n",
              "        [201, 202, 183, ..., 150, 156, 164],\n",
              "        ...,\n",
              "        [216, 218, 215, ..., 211, 214, 218],\n",
              "        [215, 217, 218, ..., 215, 219, 222],\n",
              "        [212, 217, 217, ..., 214, 220, 221]],\n",
              "\n",
              "       ...,\n",
              "\n",
              "       [[146, 149, 151, ..., 139, 142, 143],\n",
              "        [150, 151, 155, ..., 139, 140, 140],\n",
              "        [151, 150, 154, ..., 138, 139, 138],\n",
              "        ...,\n",
              "        [135, 132, 130, ..., 135, 137, 136],\n",
              "        [134, 132, 129, ..., 134, 136, 134],\n",
              "        [136, 134, 131, ..., 133, 136, 134]],\n",
              "\n",
              "       [[186, 184, 186, ..., 193, 194, 198],\n",
              "        [189, 189, 191, ..., 192, 193, 198],\n",
              "        [189, 191, 192, ..., 193, 192, 197],\n",
              "        ...,\n",
              "        [210, 208, 206, ..., 216, 216, 217],\n",
              "        [209, 208, 206, ..., 218, 217, 218],\n",
              "        [210, 207, 205, ..., 216, 219, 219]],\n",
              "\n",
              "       [[226, 224, 222, ..., 184, 175, 169],\n",
              "        [227, 225, 223, ..., 178, 172, 173],\n",
              "        [226, 224, 220, ..., 170, 166, 171],\n",
              "        ...,\n",
              "        [181, 173, 174, ..., 200, 201, 205],\n",
              "        [181, 172, 174, ..., 200, 199, 202],\n",
              "        [183, 177, 174, ..., 200, 198, 201]]], dtype=uint8)"
            ]
          },
          "metadata": {
            "tags": []
          },
          "execution_count": 29
        }
      ]
    },
    {
      "cell_type": "code",
      "metadata": {
        "id": "KHEGEoz1qpUb",
        "colab": {
          "base_uri": "https://localhost:8080/"
        },
        "outputId": "bec855ec-35ba-4b36-de3d-eaf5de1df150"
      },
      "source": [
        "test_arr.shape"
      ],
      "execution_count": 30,
      "outputs": [
        {
          "output_type": "execute_result",
          "data": {
            "text/plain": [
              "(2305, 32, 32)"
            ]
          },
          "metadata": {
            "tags": []
          },
          "execution_count": 30
        }
      ]
    },
    {
      "cell_type": "code",
      "metadata": {
        "id": "7KNDswlffvYq",
        "colab": {
          "base_uri": "https://localhost:8080/"
        },
        "outputId": "a6a76378-d036-4c2a-b894-8ddcedffe2c6"
      },
      "source": [
        "# reshape into 3 channels for feeding into the model\n",
        "test_images_3ch = np.stack([test_arr]*3, axis=-1)\n",
        "print('\\nTest_images.shape: {}, of {}'.format(test_images_3ch.shape, test_images_3ch.dtype))"
      ],
      "execution_count": 31,
      "outputs": [
        {
          "output_type": "stream",
          "text": [
            "\n",
            "Test_images.shape: (2305, 32, 32, 3), of uint8\n"
          ],
          "name": "stdout"
        }
      ]
    },
    {
      "cell_type": "code",
      "metadata": {
        "id": "lIeL1SHdCAcf"
      },
      "source": [
        "# normalisation\n",
        "test_images_scaled = test_images_3ch / 255."
      ],
      "execution_count": 32,
      "outputs": []
    },
    {
      "cell_type": "markdown",
      "metadata": {
        "id": "AxtDS6-0J0s2"
      },
      "source": [
        "### Make Prediction on Test Dataset\n",
        "Time to make a submission!!!"
      ]
    },
    {
      "cell_type": "code",
      "metadata": {
        "id": "yXLCDKVrJuzY"
      },
      "source": [
        "test_predictions = model.predict(test_images_scaled)"
      ],
      "execution_count": 33,
      "outputs": []
    },
    {
      "cell_type": "code",
      "metadata": {
        "id": "bMh35Wogw3xn"
      },
      "source": [
        "images_test['predictprobability'] = test_predictions"
      ],
      "execution_count": 53,
      "outputs": []
    },
    {
      "cell_type": "code",
      "metadata": {
        "id": "HqX-PljsxO0O"
      },
      "source": [
        "def convert_to_label (row):\n",
        "  if row['predictprobability'] >=0.5:\n",
        "    return 'male'\n",
        "  else:\n",
        "    return 'female'\n",
        "\n",
        "images_test['predictlabel'] = images_test.apply(convert_to_label, axis=1)"
      ],
      "execution_count": 59,
      "outputs": []
    },
    {
      "cell_type": "code",
      "metadata": {
        "colab": {
          "base_uri": "https://localhost:8080/",
          "height": 200
        },
        "id": "oUgvbHDq089T",
        "outputId": "45cf0146-b4e4-4792-bcc5-7a73a39c4161"
      },
      "source": [
        "images_test.head()"
      ],
      "execution_count": 60,
      "outputs": [
        {
          "output_type": "execute_result",
          "data": {
            "text/html": [
              "<div>\n",
              "<style scoped>\n",
              "    .dataframe tbody tr th:only-of-type {\n",
              "        vertical-align: middle;\n",
              "    }\n",
              "\n",
              "    .dataframe tbody tr th {\n",
              "        vertical-align: top;\n",
              "    }\n",
              "\n",
              "    .dataframe thead th {\n",
              "        text-align: right;\n",
              "    }\n",
              "</style>\n",
              "<table border=\"1\" class=\"dataframe\">\n",
              "  <thead>\n",
              "    <tr style=\"text-align: right;\">\n",
              "      <th></th>\n",
              "      <th>filename</th>\n",
              "      <th>filepaths</th>\n",
              "      <th>predictprobability</th>\n",
              "      <th>predictlabel</th>\n",
              "    </tr>\n",
              "  </thead>\n",
              "  <tbody>\n",
              "    <tr>\n",
              "      <th>0</th>\n",
              "      <td>Image_1.jpg</td>\n",
              "      <td>/content/content/eye_gender_data/test/Image_1.jpg</td>\n",
              "      <td>0.998291</td>\n",
              "      <td>male</td>\n",
              "    </tr>\n",
              "    <tr>\n",
              "      <th>1</th>\n",
              "      <td>Image_2.jpg</td>\n",
              "      <td>/content/content/eye_gender_data/test/Image_2.jpg</td>\n",
              "      <td>0.958787</td>\n",
              "      <td>male</td>\n",
              "    </tr>\n",
              "    <tr>\n",
              "      <th>2</th>\n",
              "      <td>Image_3.jpg</td>\n",
              "      <td>/content/content/eye_gender_data/test/Image_3.jpg</td>\n",
              "      <td>0.989709</td>\n",
              "      <td>male</td>\n",
              "    </tr>\n",
              "    <tr>\n",
              "      <th>3</th>\n",
              "      <td>Image_4.jpg</td>\n",
              "      <td>/content/content/eye_gender_data/test/Image_4.jpg</td>\n",
              "      <td>0.985602</td>\n",
              "      <td>male</td>\n",
              "    </tr>\n",
              "    <tr>\n",
              "      <th>4</th>\n",
              "      <td>Image_5.jpg</td>\n",
              "      <td>/content/content/eye_gender_data/test/Image_5.jpg</td>\n",
              "      <td>0.999317</td>\n",
              "      <td>male</td>\n",
              "    </tr>\n",
              "  </tbody>\n",
              "</table>\n",
              "</div>"
            ],
            "text/plain": [
              "      filename  ... predictlabel\n",
              "0  Image_1.jpg  ...         male\n",
              "1  Image_2.jpg  ...         male\n",
              "2  Image_3.jpg  ...         male\n",
              "3  Image_4.jpg  ...         male\n",
              "4  Image_5.jpg  ...         male\n",
              "\n",
              "[5 rows x 4 columns]"
            ]
          },
          "metadata": {
            "tags": []
          },
          "execution_count": 60
        }
      ]
    },
    {
      "cell_type": "code",
      "metadata": {
        "colab": {
          "base_uri": "https://localhost:8080/",
          "height": 200
        },
        "id": "5aXgvbj-0_Mm",
        "outputId": "99d3a2fa-f34f-4612-bf24-794ef33a255d"
      },
      "source": [
        "images_test.tail()"
      ],
      "execution_count": 61,
      "outputs": [
        {
          "output_type": "execute_result",
          "data": {
            "text/html": [
              "<div>\n",
              "<style scoped>\n",
              "    .dataframe tbody tr th:only-of-type {\n",
              "        vertical-align: middle;\n",
              "    }\n",
              "\n",
              "    .dataframe tbody tr th {\n",
              "        vertical-align: top;\n",
              "    }\n",
              "\n",
              "    .dataframe thead th {\n",
              "        text-align: right;\n",
              "    }\n",
              "</style>\n",
              "<table border=\"1\" class=\"dataframe\">\n",
              "  <thead>\n",
              "    <tr style=\"text-align: right;\">\n",
              "      <th></th>\n",
              "      <th>filename</th>\n",
              "      <th>filepaths</th>\n",
              "      <th>predictprobability</th>\n",
              "      <th>predictlabel</th>\n",
              "    </tr>\n",
              "  </thead>\n",
              "  <tbody>\n",
              "    <tr>\n",
              "      <th>2300</th>\n",
              "      <td>Image_2301.jpg</td>\n",
              "      <td>/content/content/eye_gender_data/test/Image_23...</td>\n",
              "      <td>0.005048</td>\n",
              "      <td>female</td>\n",
              "    </tr>\n",
              "    <tr>\n",
              "      <th>2301</th>\n",
              "      <td>Image_2302.jpg</td>\n",
              "      <td>/content/content/eye_gender_data/test/Image_23...</td>\n",
              "      <td>0.004770</td>\n",
              "      <td>female</td>\n",
              "    </tr>\n",
              "    <tr>\n",
              "      <th>2302</th>\n",
              "      <td>Image_2303.jpg</td>\n",
              "      <td>/content/content/eye_gender_data/test/Image_23...</td>\n",
              "      <td>0.999718</td>\n",
              "      <td>male</td>\n",
              "    </tr>\n",
              "    <tr>\n",
              "      <th>2303</th>\n",
              "      <td>Image_2304.jpg</td>\n",
              "      <td>/content/content/eye_gender_data/test/Image_23...</td>\n",
              "      <td>0.999712</td>\n",
              "      <td>male</td>\n",
              "    </tr>\n",
              "    <tr>\n",
              "      <th>2304</th>\n",
              "      <td>Image_2305.jpg</td>\n",
              "      <td>/content/content/eye_gender_data/test/Image_23...</td>\n",
              "      <td>0.943940</td>\n",
              "      <td>male</td>\n",
              "    </tr>\n",
              "  </tbody>\n",
              "</table>\n",
              "</div>"
            ],
            "text/plain": [
              "            filename  ... predictlabel\n",
              "2300  Image_2301.jpg  ...       female\n",
              "2301  Image_2302.jpg  ...       female\n",
              "2302  Image_2303.jpg  ...         male\n",
              "2303  Image_2304.jpg  ...         male\n",
              "2304  Image_2305.jpg  ...         male\n",
              "\n",
              "[5 rows x 4 columns]"
            ]
          },
          "metadata": {
            "tags": []
          },
          "execution_count": 61
        }
      ]
    },
    {
      "cell_type": "code",
      "metadata": {
        "colab": {
          "base_uri": "https://localhost:8080/",
          "height": 17
        },
        "id": "QYtTrvdc1JrO",
        "outputId": "f9e821e5-1db7-4ddf-e185-b2f8ea311da4"
      },
      "source": [
        "# How to save prediction results locally via colab notebook?\n",
        "\n",
        "images_test.to_csv(\"submission.csv\", index = False) \n",
        "\n",
        "# To download the csv file locally\n",
        "from google.colab import files        \n",
        "files.download('submission.csv')"
      ],
      "execution_count": 62,
      "outputs": [
        {
          "output_type": "display_data",
          "data": {
            "application/javascript": [
              "\n",
              "    async function download(id, filename, size) {\n",
              "      if (!google.colab.kernel.accessAllowed) {\n",
              "        return;\n",
              "      }\n",
              "      const div = document.createElement('div');\n",
              "      const label = document.createElement('label');\n",
              "      label.textContent = `Downloading \"${filename}\": `;\n",
              "      div.appendChild(label);\n",
              "      const progress = document.createElement('progress');\n",
              "      progress.max = size;\n",
              "      div.appendChild(progress);\n",
              "      document.body.appendChild(div);\n",
              "\n",
              "      const buffers = [];\n",
              "      let downloaded = 0;\n",
              "\n",
              "      const channel = await google.colab.kernel.comms.open(id);\n",
              "      // Send a message to notify the kernel that we're ready.\n",
              "      channel.send({})\n",
              "\n",
              "      for await (const message of channel.messages) {\n",
              "        // Send a message to notify the kernel that we're ready.\n",
              "        channel.send({})\n",
              "        if (message.buffers) {\n",
              "          for (const buffer of message.buffers) {\n",
              "            buffers.push(buffer);\n",
              "            downloaded += buffer.byteLength;\n",
              "            progress.value = downloaded;\n",
              "          }\n",
              "        }\n",
              "      }\n",
              "      const blob = new Blob(buffers, {type: 'application/binary'});\n",
              "      const a = document.createElement('a');\n",
              "      a.href = window.URL.createObjectURL(blob);\n",
              "      a.download = filename;\n",
              "      div.appendChild(a);\n",
              "      a.click();\n",
              "      div.remove();\n",
              "    }\n",
              "  "
            ],
            "text/plain": [
              "<IPython.core.display.Javascript object>"
            ]
          },
          "metadata": {
            "tags": []
          }
        },
        {
          "output_type": "display_data",
          "data": {
            "application/javascript": [
              "download(\"download_80149cd7-4fd0-4521-9e43-80e755db0884\", \"submission.csv\", 194289)"
            ],
            "text/plain": [
              "<IPython.core.display.Javascript object>"
            ]
          },
          "metadata": {
            "tags": []
          }
        }
      ]
    },
    {
      "cell_type": "markdown",
      "metadata": {
        "id": "NohZiMIkO_tX"
      },
      "source": [
        "# **Well Done! 👍**\n",
        "You are all set to make a submission. Let's head to the **[challenge page](https://dphi.tech/challenges/4-week-deep-learning-online-bootcamp-final-assignment-sex-determination-by-morphometry-of-eyes/144/submit)** to make the submission."
      ]
    }
  ]
}